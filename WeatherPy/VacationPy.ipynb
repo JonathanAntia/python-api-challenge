{
 "cells": [
  {
   "cell_type": "code",
   "execution_count": 1,
   "metadata": {},
   "outputs": [],
   "source": [
    "# Dependencies\n",
    "import requests\n",
    "import json\n",
    "import pandas as pd\n",
    "import gmaps\n",
    "import time\n",
    "\n",
    "# Google developer API key\n",
    "from config import gkey\n",
    "gmaps.configure(gkey)"
   ]
  },
  {
   "cell_type": "code",
   "execution_count": 2,
   "metadata": {},
   "outputs": [],
   "source": [
    "# import csv file into a DataFrame\n",
    "weather_data = pd.read_csv(\"Weather_Output/Weather_DataFrame.csv\")"
   ]
  },
  {
   "cell_type": "code",
   "execution_count": 3,
   "metadata": {
    "scrolled": true
   },
   "outputs": [
    {
     "data": {
      "application/vnd.jupyter.widget-view+json": {
       "model_id": "862e979df68d4d1cadffaf1d7e1fc24b",
       "version_major": 2,
       "version_minor": 0
      },
      "text/plain": [
       "Figure(layout=FigureLayout(border='1px solic black', height='500px', margin='0 auto 0 auto', padding='1px', wi…"
      ]
     },
     "metadata": {},
     "output_type": "display_data"
    }
   ],
   "source": [
    "# create a heat map of humidity per city\n",
    "locations = weather_data[[\"Latitude\",\"Longitude\"]]\n",
    "humidity = weather_data[\"Humidity (%)\"]\n",
    "\n",
    "figure_layout = {\"width\":\"900px\",\n",
    "                 \"height\":\"500px\",\n",
    "                 \"border\":\"1px solic black\",\n",
    "                 \"padding\":\"1px\",\"margin\":\"0 auto 0 auto\"}\n",
    "fig = gmaps.figure(layout=figure_layout,center=(0, 0), zoom_level=1.5,map_type=\"HYBRID\")\n",
    "humidity_layer = gmaps.heatmap_layer(locations,weights=humidity,dissipating=False,point_radius=1,\n",
    "                                    max_intensity = max(weather_data['Humidity (%)']))\n",
    "max_intensity = max(weather_data['Humidity (%)'])\n",
    "fig.add_layer(humidity_layer)\n",
    "fig"
   ]
  },
  {
   "cell_type": "code",
   "execution_count": 4,
   "metadata": {},
   "outputs": [
    {
     "data": {
      "text/html": [
       "<div>\n",
       "<style scoped>\n",
       "    .dataframe tbody tr th:only-of-type {\n",
       "        vertical-align: middle;\n",
       "    }\n",
       "\n",
       "    .dataframe tbody tr th {\n",
       "        vertical-align: top;\n",
       "    }\n",
       "\n",
       "    .dataframe thead th {\n",
       "        text-align: right;\n",
       "    }\n",
       "</style>\n",
       "<table border=\"1\" class=\"dataframe\">\n",
       "  <thead>\n",
       "    <tr style=\"text-align: right;\">\n",
       "      <th></th>\n",
       "      <th>City</th>\n",
       "      <th>Country</th>\n",
       "      <th>Latitude</th>\n",
       "      <th>Longitude</th>\n",
       "      <th>Temperature (F)</th>\n",
       "      <th>Humidity (%)</th>\n",
       "      <th>Cloudiness (%)</th>\n",
       "      <th>Wind Speed (mph)</th>\n",
       "      <th>Hemisphere</th>\n",
       "    </tr>\n",
       "  </thead>\n",
       "  <tbody>\n",
       "    <tr>\n",
       "      <th>7</th>\n",
       "      <td>saldanha</td>\n",
       "      <td>za</td>\n",
       "      <td>-33.01</td>\n",
       "      <td>17.94</td>\n",
       "      <td>50.0</td>\n",
       "      <td>81</td>\n",
       "      <td>0</td>\n",
       "      <td>3.36</td>\n",
       "      <td>Southern</td>\n",
       "    </tr>\n",
       "    <tr>\n",
       "      <th>15</th>\n",
       "      <td>mount isa</td>\n",
       "      <td>au</td>\n",
       "      <td>-20.73</td>\n",
       "      <td>139.50</td>\n",
       "      <td>59.0</td>\n",
       "      <td>41</td>\n",
       "      <td>0</td>\n",
       "      <td>5.82</td>\n",
       "      <td>Southern</td>\n",
       "    </tr>\n",
       "    <tr>\n",
       "      <th>335</th>\n",
       "      <td>presidencia roque saenz pena</td>\n",
       "      <td>ar</td>\n",
       "      <td>-26.79</td>\n",
       "      <td>-60.44</td>\n",
       "      <td>73.0</td>\n",
       "      <td>69</td>\n",
       "      <td>0</td>\n",
       "      <td>6.85</td>\n",
       "      <td>Southern</td>\n",
       "    </tr>\n",
       "    <tr>\n",
       "      <th>598</th>\n",
       "      <td>aykhal</td>\n",
       "      <td>ru</td>\n",
       "      <td>66.00</td>\n",
       "      <td>111.50</td>\n",
       "      <td>50.0</td>\n",
       "      <td>61</td>\n",
       "      <td>0</td>\n",
       "      <td>8.95</td>\n",
       "      <td>Northern</td>\n",
       "    </tr>\n",
       "    <tr>\n",
       "      <th>887</th>\n",
       "      <td>behbahan</td>\n",
       "      <td>ir</td>\n",
       "      <td>30.60</td>\n",
       "      <td>50.24</td>\n",
       "      <td>77.0</td>\n",
       "      <td>17</td>\n",
       "      <td>0</td>\n",
       "      <td>9.10</td>\n",
       "      <td>Northern</td>\n",
       "    </tr>\n",
       "  </tbody>\n",
       "</table>\n",
       "</div>"
      ],
      "text/plain": [
       "                             City Country  Latitude  Longitude  \\\n",
       "7                        saldanha      za    -33.01      17.94   \n",
       "15                      mount isa      au    -20.73     139.50   \n",
       "335  presidencia roque saenz pena      ar    -26.79     -60.44   \n",
       "598                        aykhal      ru     66.00     111.50   \n",
       "887                      behbahan      ir     30.60      50.24   \n",
       "\n",
       "     Temperature (F)  Humidity (%)  Cloudiness (%)  Wind Speed (mph)  \\\n",
       "7               50.0            81               0              3.36   \n",
       "15              59.0            41               0              5.82   \n",
       "335             73.0            69               0              6.85   \n",
       "598             50.0            61               0              8.95   \n",
       "887             77.0            17               0              9.10   \n",
       "\n",
       "    Hemisphere  \n",
       "7     Southern  \n",
       "15    Southern  \n",
       "335   Southern  \n",
       "598   Northern  \n",
       "887   Northern  "
      ]
     },
     "execution_count": 4,
     "metadata": {},
     "output_type": "execute_result"
    }
   ],
   "source": [
    "# filter the DataFrame based on personal preferences of temp(50-80F), cloudiness(<20%), and windspeed(<10mph)\n",
    "cond = (weather_data['Temperature (F)'].isin(range(50,80)))&(\n",
    "        weather_data['Cloudiness (%)']<20)&(\n",
    "        weather_data['Wind Speed (mph)']<10)\n",
    "vacation_spots = weather_data.iloc[weather_data[cond].index]\n",
    "vacation_spots"
   ]
  },
  {
   "cell_type": "code",
   "execution_count": 5,
   "metadata": {},
   "outputs": [
    {
     "name": "stderr",
     "output_type": "stream",
     "text": [
      "C:\\Users\\DINKS\\anaconda3\\envs\\PythonData\\lib\\site-packages\\pandas\\core\\indexing.py:845: SettingWithCopyWarning: \n",
      "A value is trying to be set on a copy of a slice from a DataFrame.\n",
      "Try using .loc[row_indexer,col_indexer] = value instead\n",
      "\n",
      "See the caveats in the documentation: https://pandas.pydata.org/pandas-docs/stable/user_guide/indexing.html#returning-a-view-versus-a-copy\n",
      "  self.obj[key] = _infer_fill_value(value)\n",
      "C:\\Users\\DINKS\\anaconda3\\envs\\PythonData\\lib\\site-packages\\pandas\\core\\indexing.py:966: SettingWithCopyWarning: \n",
      "A value is trying to be set on a copy of a slice from a DataFrame.\n",
      "Try using .loc[row_indexer,col_indexer] = value instead\n",
      "\n",
      "See the caveats in the documentation: https://pandas.pydata.org/pandas-docs/stable/user_guide/indexing.html#returning-a-view-versus-a-copy\n",
      "  self.obj[item] = s\n"
     ]
    }
   ],
   "source": [
    "# use google places api to find first hotel within 5000 meters of coordinates\n",
    "params={\"radius\": 5000, \"type\":\"hotel\" , \"key\":gkey}\n",
    "\n",
    "# loop though the vacation spots DataFrame to find hotel\n",
    "for index,row in vacation_spots.iterrows():\n",
    "    lat = row['Latitude']\n",
    "    lng = row['Longitude']\n",
    "    \n",
    "    params[\"location\"] = f\"{lat},{lng}\"\n",
    "    \n",
    "    base_url = \"https://maps.googleapis.com/maps/api/place/nearbysearch/json\"\n",
    "    \n",
    "    hotels = requests.get(base_url,params=params)\n",
    "    hotels = hotels.json()\n",
    "    try:\n",
    "        vacation_spots.loc[index,\"Hotels\"] = hotels[\"results\"][0][\"name\"]\n",
    "    except:\n",
    "        print(\"Missing field/result... skiping\")"
   ]
  },
  {
   "cell_type": "code",
   "execution_count": 6,
   "metadata": {},
   "outputs": [
    {
     "data": {
      "text/html": [
       "<div>\n",
       "<style scoped>\n",
       "    .dataframe tbody tr th:only-of-type {\n",
       "        vertical-align: middle;\n",
       "    }\n",
       "\n",
       "    .dataframe tbody tr th {\n",
       "        vertical-align: top;\n",
       "    }\n",
       "\n",
       "    .dataframe thead th {\n",
       "        text-align: right;\n",
       "    }\n",
       "</style>\n",
       "<table border=\"1\" class=\"dataframe\">\n",
       "  <thead>\n",
       "    <tr style=\"text-align: right;\">\n",
       "      <th></th>\n",
       "      <th>City</th>\n",
       "      <th>Country</th>\n",
       "      <th>Latitude</th>\n",
       "      <th>Longitude</th>\n",
       "      <th>Temperature (F)</th>\n",
       "      <th>Humidity (%)</th>\n",
       "      <th>Cloudiness (%)</th>\n",
       "      <th>Wind Speed (mph)</th>\n",
       "      <th>Hemisphere</th>\n",
       "      <th>Hotels</th>\n",
       "    </tr>\n",
       "  </thead>\n",
       "  <tbody>\n",
       "    <tr>\n",
       "      <th>7</th>\n",
       "      <td>saldanha</td>\n",
       "      <td>za</td>\n",
       "      <td>-33.01</td>\n",
       "      <td>17.94</td>\n",
       "      <td>50.0</td>\n",
       "      <td>81</td>\n",
       "      <td>0</td>\n",
       "      <td>3.36</td>\n",
       "      <td>Southern</td>\n",
       "      <td>Saldanha</td>\n",
       "    </tr>\n",
       "    <tr>\n",
       "      <th>15</th>\n",
       "      <td>mount isa</td>\n",
       "      <td>au</td>\n",
       "      <td>-20.73</td>\n",
       "      <td>139.50</td>\n",
       "      <td>59.0</td>\n",
       "      <td>41</td>\n",
       "      <td>0</td>\n",
       "      <td>5.82</td>\n",
       "      <td>Southern</td>\n",
       "      <td>Mount Isa</td>\n",
       "    </tr>\n",
       "    <tr>\n",
       "      <th>335</th>\n",
       "      <td>presidencia roque saenz pena</td>\n",
       "      <td>ar</td>\n",
       "      <td>-26.79</td>\n",
       "      <td>-60.44</td>\n",
       "      <td>73.0</td>\n",
       "      <td>69</td>\n",
       "      <td>0</td>\n",
       "      <td>6.85</td>\n",
       "      <td>Southern</td>\n",
       "      <td>Presidencia Roque Sáenz Peña</td>\n",
       "    </tr>\n",
       "    <tr>\n",
       "      <th>598</th>\n",
       "      <td>aykhal</td>\n",
       "      <td>ru</td>\n",
       "      <td>66.00</td>\n",
       "      <td>111.50</td>\n",
       "      <td>50.0</td>\n",
       "      <td>61</td>\n",
       "      <td>0</td>\n",
       "      <td>8.95</td>\n",
       "      <td>Northern</td>\n",
       "      <td>Novoye Kladbishche</td>\n",
       "    </tr>\n",
       "    <tr>\n",
       "      <th>887</th>\n",
       "      <td>behbahan</td>\n",
       "      <td>ir</td>\n",
       "      <td>30.60</td>\n",
       "      <td>50.24</td>\n",
       "      <td>77.0</td>\n",
       "      <td>17</td>\n",
       "      <td>0</td>\n",
       "      <td>9.10</td>\n",
       "      <td>Northern</td>\n",
       "      <td>Behbahan</td>\n",
       "    </tr>\n",
       "  </tbody>\n",
       "</table>\n",
       "</div>"
      ],
      "text/plain": [
       "                             City Country  Latitude  Longitude  \\\n",
       "7                        saldanha      za    -33.01      17.94   \n",
       "15                      mount isa      au    -20.73     139.50   \n",
       "335  presidencia roque saenz pena      ar    -26.79     -60.44   \n",
       "598                        aykhal      ru     66.00     111.50   \n",
       "887                      behbahan      ir     30.60      50.24   \n",
       "\n",
       "     Temperature (F)  Humidity (%)  Cloudiness (%)  Wind Speed (mph)  \\\n",
       "7               50.0            81               0              3.36   \n",
       "15              59.0            41               0              5.82   \n",
       "335             73.0            69               0              6.85   \n",
       "598             50.0            61               0              8.95   \n",
       "887             77.0            17               0              9.10   \n",
       "\n",
       "    Hemisphere                        Hotels  \n",
       "7     Southern                      Saldanha  \n",
       "15    Southern                     Mount Isa  \n",
       "335   Southern  Presidencia Roque Sáenz Peña  \n",
       "598   Northern            Novoye Kladbishche  \n",
       "887   Northern                      Behbahan  "
      ]
     },
     "execution_count": 6,
     "metadata": {},
     "output_type": "execute_result"
    }
   ],
   "source": [
    "vacation_spots"
   ]
  },
  {
   "cell_type": "code",
   "execution_count": 7,
   "metadata": {},
   "outputs": [
    {
     "data": {
      "application/vnd.jupyter.widget-view+json": {
       "model_id": "862e979df68d4d1cadffaf1d7e1fc24b",
       "version_major": 2,
       "version_minor": 0
      },
      "text/plain": [
       "Figure(layout=FigureLayout(border='1px solic black', height='500px', margin='0 auto 0 auto', padding='1px', wi…"
      ]
     },
     "metadata": {},
     "output_type": "display_data"
    }
   ],
   "source": [
    "# plot the hotel layer on top of the humidity heat map\n",
    "city_location = vacation_spots[[\"Latitude\",\"Longitude\"]]\n",
    "hotels = vacation_spots[\"Hotels\"].tolist()\n",
    "city = vacation_spots[\"City\"].tolist()\n",
    "country = vacation_spots[\"Country\"].tolist()\n",
    "info_lst = list(zip(hotels,city,country))\n",
    "city_markers = gmaps.marker_layer(city_location,\n",
    "                                 info_box_content=[f\"Hotel: {info}\" for info in info_lst])\n",
    "fig.add_layer(city_markers)\n",
    "fig"
   ]
  },
  {
   "cell_type": "code",
   "execution_count": null,
   "metadata": {},
   "outputs": [],
   "source": []
  }
 ],
 "metadata": {
  "kernelspec": {
   "display_name": "Python [conda env:PythonData] *",
   "language": "python",
   "name": "conda-env-PythonData-py"
  },
  "language_info": {
   "codemirror_mode": {
    "name": "ipython",
    "version": 3
   },
   "file_extension": ".py",
   "mimetype": "text/x-python",
   "name": "python",
   "nbconvert_exporter": "python",
   "pygments_lexer": "ipython3",
   "version": "3.8.3"
  }
 },
 "nbformat": 4,
 "nbformat_minor": 4
}
